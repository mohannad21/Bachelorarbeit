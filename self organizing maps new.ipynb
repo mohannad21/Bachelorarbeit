{
 "cells": [
  {
   "cell_type": "code",
   "execution_count": 1,
   "metadata": {
    "collapsed": false
   },
   "outputs": [
    {
     "name": "stdout",
     "output_type": "stream",
     "text": [
      "Warning: the binary library cannot be imported. You cannot train maps, but you can load and analyze ones that you have already saved.\n",
      "If you installed Somoclu with pip on Windows, this typically means missing DLLs. Please refer to the documentation.\n"
     ]
    }
   ],
   "source": [
    "import numpy as np\n",
    "import matplotlib.pyplot as plt\n",
    "from mpl_toolkits.mplot3d import Axes3D\n",
    "import somoclu\n",
    "from somoclu import Somoclu\n",
    "%matplotlib inline \n",
    "import pandas as pd\n",
    "import numpy as np\n",
    "from sklearn.cluster import KMeans\n",
    "import matplotlib.pyplot as plt\n",
    "from sklearn import datasets\n",
    "from matplotlib import style\n",
    "style.use(\"ggplot\")\n",
    "from collections import Counter\n",
    "from mpl_toolkits.mplot3d import Axes3D\n",
    "from pylab import *\n",
    "from scipy.spatial.distance import cdist\n"
   ]
  },
  {
   "cell_type": "code",
   "execution_count": 3,
   "metadata": {
    "collapsed": true
   },
   "outputs": [],
   "source": [
    "#file = 'CW PUMP 1B CURRENT.csv'\n",
    "#file = 'ID FAN 1B MTR OBRG TEMP.csv'\n",
    "file = 'temperator.csv'\n",
    "#file = '9-1-2008 to 9-1-2009 Trend.csv'\n",
    "\n",
    "if (file == 'CW PUMP 1B CURRENT.csv'):\n",
    "    outlierRange = []\n",
    "    outlierRangeDel = []\n",
    "\n",
    "elif (file == 'ID FAN 1B MTR OBRG TEMP.csv'):\n",
    "    outlierRange = []\n",
    "    outlierRangeDel = []\n",
    "\n",
    "elif (file == 'temperator.csv'):\n",
    "    outlierRange = [90, 10]\n",
    "    outlierRangeDel = [100, -10]\n",
    "    outlierRangePosDel = [] \n",
    "elif (file == '9-1-2008 to 9-1-2009 Trend.csv'):\n",
    "    outlierRange = []\n",
    "    outlierRangeDel = []\n"
   ]
  },
  {
   "cell_type": "code",
   "execution_count": 4,
   "metadata": {
    "collapsed": false
   },
   "outputs": [
    {
     "name": "stdout",
     "output_type": "stream",
     "text": [
      "values : 237129\n",
      "dates : 237129\n",
      "invalid : 8001\n"
     ]
    }
   ],
   "source": [
    "rowDates = []\n",
    "rowValues = []\n",
    "counter = 0\n",
    "\n",
    "dataDF = pd.read_csv(file, sep=',', header=None)  \n",
    "\n",
    "for index, row in dataDF.iterrows():\n",
    "    rowValue = row[1]\n",
    "    rowDate = row[0]\n",
    "        \n",
    "    try:\n",
    "        float(rowValue)\n",
    "        pd.to_datetime(rowDate)\n",
    "        rowValues.append(float(rowValue))\n",
    "        rowDates.append(pd.to_datetime(rowDate))                    \n",
    "    except:\n",
    "        counter += 1\n",
    "        continue\n",
    "    #if index == 2000:\n",
    "        #break\n",
    "\n",
    "print('values :',len(rowValues))\n",
    "print('dates :',len(rowDates))\n",
    "print('invalid :',counter)"
   ]
  },
  {
   "cell_type": "code",
   "execution_count": 32,
   "metadata": {
    "collapsed": true
   },
   "outputs": [],
   "source": [
    "def createOutlierList(values, interval):\n",
    "    counter = 0\n",
    "    outlier = []\n",
    "    for v in values:\n",
    "        if (v > interval[0] or  v < interval[1]):\n",
    "            outlier.append(1)\n",
    "            counter = counter + 1\n",
    "        else:\n",
    "            outlier.append(0)\n",
    "    print(\"outlier :\", counter)\n",
    "    return outlier"
   ]
  },
  {
   "cell_type": "code",
   "execution_count": 33,
   "metadata": {
    "collapsed": true
   },
   "outputs": [],
   "source": [
    "def calculateDelta(values, dates):\n",
    "    deltaDates = dates.copy()\n",
    "    del deltaDates[0]\n",
    "    delta = []\n",
    "    posDelta = []\n",
    "\n",
    "    for idx in range(1, len(values)):\n",
    "        x = values[idx] - values[idx - 1]\n",
    "        delta.append(x)\n",
    "        if(x < 0):\n",
    "            posDelta.append(-1*x)\n",
    "        else:\n",
    "            posDelta.append(x)\n",
    "            \n",
    "    print(\"delta Values: \", len(delta))\n",
    "    print(\"pos delta Values: \", len(posDelta))\n",
    "    print(\"delta Dates: \", len(deltaDates))\n",
    "\n",
    "    return delta, posDelta, deltaDates"
   ]
  },
  {
   "cell_type": "code",
   "execution_count": 34,
   "metadata": {
    "collapsed": true
   },
   "outputs": [],
   "source": [
    "def plotTheclusteredData(dates, values, labels, titel):\n",
    "    fig, (ax1) = plt.subplots(1, figsize=(14,6))\n",
    "    ax1.scatter(dates, values , c=labels.astype(np.float))\n",
    "    ax1.set_xlabel(\"$Time$\")\n",
    "    ax1.set_ylabel(\"$Value$\")\n",
    "    ax1.set_title(titel)\n",
    "    plt.show()"
   ]
  },
  {
   "cell_type": "code",
   "execution_count": 35,
   "metadata": {
    "collapsed": true
   },
   "outputs": [],
   "source": [
    "def plotTheElbow(K, distortions):\n",
    "    plt.plot(K, distortions, 'bx-')\n",
    "    plt.xlabel('k')\n",
    "    plt.ylabel('Distortion')\n",
    "    plt.title('The Elbow Method showing the optimal k')\n",
    "    plt.show()"
   ]
  },
  {
   "cell_type": "code",
   "execution_count": 36,
   "metadata": {
    "collapsed": true
   },
   "outputs": [],
   "source": [
    "def plotTheDataWithoutClusters(x, predicted, rowValues, rowDates, titel):\n",
    "    print(\"without cluster : \" , x )\n",
    "    counterProCluster = 0\n",
    "    clusterVal = []\n",
    "    clusterDate = []\n",
    "    predictedNew = []\n",
    "\n",
    "    for i in range(len(predicted)):\n",
    "        if(predicted[i] != x):\n",
    "            counterProCluster = counterProCluster + 1\n",
    "            clusterVal.append(rowValues[i])\n",
    "            clusterDate.append(rowDates[i])\n",
    "            predictedNew.append(predicted[i])\n",
    "        else:\n",
    "            continue\n",
    "\n",
    "    ax = plt.gca()\n",
    "    ax.scatter(clusterDate, clusterVal, c = predictedNew)\n",
    "    plt.title(titel)\n",
    "    plt.show()"
   ]
  },
  {
   "cell_type": "code",
   "execution_count": 37,
   "metadata": {
    "collapsed": false
   },
   "outputs": [
    {
     "name": "stdout",
     "output_type": "stream",
     "text": [
      "outlier : 3\n",
      "delta Values:  1997\n",
      "pos delta Values:  1997\n",
      "delta Dates:  1997\n",
      "outlier : 6\n",
      "outlier : 6\n"
     ]
    }
   ],
   "source": [
    "outlier = createOutlierList(rowValues, outlierRange)\n",
    "deltaValues, posDeltaValues, deltaDates = calculateDelta(rowValues, rowDates)\n",
    "outlierDelta = createOutlierList(deltaValues, outlierRangeDel)\n",
    "outlierPosDelta = createOutlierList(posDeltaValues, outlierRangeDel)"
   ]
  },
  {
   "cell_type": "code",
   "execution_count": 6,
   "metadata": {
    "collapsed": false
   },
   "outputs": [
    {
     "data": {
      "image/png": "[encoded data removed]",
      "text/plain": [
       "<matplotlib.figure.Figure at 0x267ede1cf60>"
      ]
     },
     "metadata": {},
     "output_type": "display_data"
    }
   ],
   "source": [
    "fig, (ax1) = plt.subplots(1, figsize=(14,6))\n",
    "\n",
    "ax1.scatter(rowDates, rowValues, c=\"green\")\n",
    "#ax1.scatter(deltaDates, deltaValues, c=\"green\")\n",
    "#ax1.scatter(deltaDates, posDeltaValues, c=\"green\")\n",
    "\n",
    "\n",
    "ax1.set_xlabel(\"$Time$\")\n",
    "ax1.set_ylabel(\"$Value$\")\n",
    "ax1.set_title(\"$Temperature$\")\n",
    "#ax1.set_title(\"$K-Means original$\")\n",
    "plt.show()"
   ]
  },
  {
   "cell_type": "code",
   "execution_count": 39,
   "metadata": {
    "collapsed": false
   },
   "outputs": [
    {
     "name": "stdout",
     "output_type": "stream",
     "text": [
      "Warning: data was not float32. A 32-bit copy was made\n"
     ]
    },
    {
     "ename": "NameError",
     "evalue": "name 'wrap_train' is not defined",
     "output_type": "error",
     "traceback": [
      "\u001b[0;31m---------------------------------------------------------------------------\u001b[0m",
      "\u001b[0;31mNameError\u001b[0m                                 Traceback (most recent call last)",
      "\u001b[0;32m<ipython-input-39-cfef2ef73b95>\u001b[0m in \u001b[0;36m<module>\u001b[0;34m()\u001b[0m\n\u001b[1;32m     11\u001b[0m \u001b[1;33m\u001b[0m\u001b[0m\n\u001b[1;32m     12\u001b[0m \u001b[0msom\u001b[0m \u001b[1;33m=\u001b[0m \u001b[0msomoclu\u001b[0m\u001b[1;33m.\u001b[0m\u001b[0mSomoclu\u001b[0m\u001b[1;33m(\u001b[0m\u001b[1;36m2\u001b[0m\u001b[1;33m,\u001b[0m\u001b[1;36m2\u001b[0m\u001b[1;33m,\u001b[0m\u001b[1;33m)\u001b[0m\u001b[1;33m\u001b[0m\u001b[0m\n\u001b[0;32m---> 13\u001b[0;31m \u001b[0mget_ipython\u001b[0m\u001b[1;33m(\u001b[0m\u001b[1;33m)\u001b[0m\u001b[1;33m.\u001b[0m\u001b[0mmagic\u001b[0m\u001b[1;33m(\u001b[0m\u001b[1;34m'time som.train(c1)'\u001b[0m\u001b[1;33m)\u001b[0m\u001b[1;33m\u001b[0m\u001b[0m\n\u001b[0m\u001b[1;32m     14\u001b[0m \u001b[1;31m#som.cluster(c1)\u001b[0m\u001b[1;33m\u001b[0m\u001b[1;33m\u001b[0m\u001b[0m\n\u001b[1;32m     15\u001b[0m \u001b[1;33m\u001b[0m\u001b[0m\n",
      "\u001b[0;32mC:\\Users\\Mohannad\\Anaconda3\\lib\\site-packages\\IPython\\core\\interactiveshell.py\u001b[0m in \u001b[0;36mmagic\u001b[0;34m(self, arg_s)\u001b[0m\n\u001b[1;32m   2156\u001b[0m         \u001b[0mmagic_name\u001b[0m\u001b[1;33m,\u001b[0m \u001b[0m_\u001b[0m\u001b[1;33m,\u001b[0m \u001b[0mmagic_arg_s\u001b[0m \u001b[1;33m=\u001b[0m \u001b[0marg_s\u001b[0m\u001b[1;33m.\u001b[0m\u001b[0mpartition\u001b[0m\u001b[1;33m(\u001b[0m\u001b[1;34m' '\u001b[0m\u001b[1;33m)\u001b[0m\u001b[1;33m\u001b[0m\u001b[0m\n\u001b[1;32m   2157\u001b[0m         \u001b[0mmagic_name\u001b[0m \u001b[1;33m=\u001b[0m \u001b[0mmagic_name\u001b[0m\u001b[1;33m.\u001b[0m\u001b[0mlstrip\u001b[0m\u001b[1;33m(\u001b[0m\u001b[0mprefilter\u001b[0m\u001b[1;33m.\u001b[0m\u001b[0mESC_MAGIC\u001b[0m\u001b[1;33m)\u001b[0m\u001b[1;33m\u001b[0m\u001b[0m\n\u001b[0;32m-> 2158\u001b[0;31m         \u001b[1;32mreturn\u001b[0m \u001b[0mself\u001b[0m\u001b[1;33m.\u001b[0m\u001b[0mrun_line_magic\u001b[0m\u001b[1;33m(\u001b[0m\u001b[0mmagic_name\u001b[0m\u001b[1;33m,\u001b[0m \u001b[0mmagic_arg_s\u001b[0m\u001b[1;33m)\u001b[0m\u001b[1;33m\u001b[0m\u001b[0m\n\u001b[0m\u001b[1;32m   2159\u001b[0m \u001b[1;33m\u001b[0m\u001b[0m\n\u001b[1;32m   2160\u001b[0m     \u001b[1;31m#-------------------------------------------------------------------------\u001b[0m\u001b[1;33m\u001b[0m\u001b[1;33m\u001b[0m\u001b[0m\n",
      "\u001b[0;32mC:\\Users\\Mohannad\\Anaconda3\\lib\\site-packages\\IPython\\core\\interactiveshell.py\u001b[0m in \u001b[0;36mrun_line_magic\u001b[0;34m(self, magic_name, line)\u001b[0m\n\u001b[1;32m   2077\u001b[0m                 \u001b[0mkwargs\u001b[0m\u001b[1;33m[\u001b[0m\u001b[1;34m'local_ns'\u001b[0m\u001b[1;33m]\u001b[0m \u001b[1;33m=\u001b[0m \u001b[0msys\u001b[0m\u001b[1;33m.\u001b[0m\u001b[0m_getframe\u001b[0m\u001b[1;33m(\u001b[0m\u001b[0mstack_depth\u001b[0m\u001b[1;33m)\u001b[0m\u001b[1;33m.\u001b[0m\u001b[0mf_locals\u001b[0m\u001b[1;33m\u001b[0m\u001b[0m\n\u001b[1;32m   2078\u001b[0m             \u001b[1;32mwith\u001b[0m \u001b[0mself\u001b[0m\u001b[1;33m.\u001b[0m\u001b[0mbuiltin_trap\u001b[0m\u001b[1;33m:\u001b[0m\u001b[1;33m\u001b[0m\u001b[0m\n\u001b[0;32m-> 2079\u001b[0;31m                 \u001b[0mresult\u001b[0m \u001b[1;33m=\u001b[0m \u001b[0mfn\u001b[0m\u001b[1;33m(\u001b[0m\u001b[1;33m*\u001b[0m\u001b[0margs\u001b[0m\u001b[1;33m,\u001b[0m\u001b[1;33m**\u001b[0m\u001b[0mkwargs\u001b[0m\u001b[1;33m)\u001b[0m\u001b[1;33m\u001b[0m\u001b[0m\n\u001b[0m\u001b[1;32m   2080\u001b[0m             \u001b[1;32mreturn\u001b[0m \u001b[0mresult\u001b[0m\u001b[1;33m\u001b[0m\u001b[0m\n\u001b[1;32m   2081\u001b[0m \u001b[1;33m\u001b[0m\u001b[0m\n",
      "\u001b[0;32m<decorator-gen-60>\u001b[0m in \u001b[0;36mtime\u001b[0;34m(self, line, cell, local_ns)\u001b[0m\n",
      "\u001b[0;32mC:\\Users\\Mohannad\\Anaconda3\\lib\\site-packages\\IPython\\core\\magic.py\u001b[0m in \u001b[0;36m<lambda>\u001b[0;34m(f, *a, **k)\u001b[0m\n\u001b[1;32m    186\u001b[0m     \u001b[1;31m# but it's overkill for just that one bit of state.\u001b[0m\u001b[1;33m\u001b[0m\u001b[1;33m\u001b[0m\u001b[0m\n\u001b[1;32m    187\u001b[0m     \u001b[1;32mdef\u001b[0m \u001b[0mmagic_deco\u001b[0m\u001b[1;33m(\u001b[0m\u001b[0marg\u001b[0m\u001b[1;33m)\u001b[0m\u001b[1;33m:\u001b[0m\u001b[1;33m\u001b[0m\u001b[0m\n\u001b[0;32m--> 188\u001b[0;31m         \u001b[0mcall\u001b[0m \u001b[1;33m=\u001b[0m \u001b[1;32mlambda\u001b[0m \u001b[0mf\u001b[0m\u001b[1;33m,\u001b[0m \u001b[1;33m*\u001b[0m\u001b[0ma\u001b[0m\u001b[1;33m,\u001b[0m \u001b[1;33m**\u001b[0m\u001b[0mk\u001b[0m\u001b[1;33m:\u001b[0m \u001b[0mf\u001b[0m\u001b[1;33m(\u001b[0m\u001b[1;33m*\u001b[0m\u001b[0ma\u001b[0m\u001b[1;33m,\u001b[0m \u001b[1;33m**\u001b[0m\u001b[0mk\u001b[0m\u001b[1;33m)\u001b[0m\u001b[1;33m\u001b[0m\u001b[0m\n\u001b[0m\u001b[1;32m    189\u001b[0m \u001b[1;33m\u001b[0m\u001b[0m\n\u001b[1;32m    190\u001b[0m         \u001b[1;32mif\u001b[0m \u001b[0mcallable\u001b[0m\u001b[1;33m(\u001b[0m\u001b[0marg\u001b[0m\u001b[1;33m)\u001b[0m\u001b[1;33m:\u001b[0m\u001b[1;33m\u001b[0m\u001b[0m\n",
      "\u001b[0;32mC:\\Users\\Mohannad\\Anaconda3\\lib\\site-packages\\IPython\\core\\magics\\execution.py\u001b[0m in \u001b[0;36mtime\u001b[0;34m(self, line, cell, local_ns)\u001b[0m\n\u001b[1;32m   1174\u001b[0m         \u001b[1;32mif\u001b[0m \u001b[0mmode\u001b[0m\u001b[1;33m==\u001b[0m\u001b[1;34m'eval'\u001b[0m\u001b[1;33m:\u001b[0m\u001b[1;33m\u001b[0m\u001b[0m\n\u001b[1;32m   1175\u001b[0m             \u001b[0mst\u001b[0m \u001b[1;33m=\u001b[0m \u001b[0mclock2\u001b[0m\u001b[1;33m(\u001b[0m\u001b[1;33m)\u001b[0m\u001b[1;33m\u001b[0m\u001b[0m\n\u001b[0;32m-> 1176\u001b[0;31m             \u001b[0mout\u001b[0m \u001b[1;33m=\u001b[0m \u001b[0meval\u001b[0m\u001b[1;33m(\u001b[0m\u001b[0mcode\u001b[0m\u001b[1;33m,\u001b[0m \u001b[0mglob\u001b[0m\u001b[1;33m,\u001b[0m \u001b[0mlocal_ns\u001b[0m\u001b[1;33m)\u001b[0m\u001b[1;33m\u001b[0m\u001b[0m\n\u001b[0m\u001b[1;32m   1177\u001b[0m             \u001b[0mend\u001b[0m \u001b[1;33m=\u001b[0m \u001b[0mclock2\u001b[0m\u001b[1;33m(\u001b[0m\u001b[1;33m)\u001b[0m\u001b[1;33m\u001b[0m\u001b[0m\n\u001b[1;32m   1178\u001b[0m         \u001b[1;32melse\u001b[0m\u001b[1;33m:\u001b[0m\u001b[1;33m\u001b[0m\u001b[0m\n",
      "\u001b[0;32m<timed eval>\u001b[0m in \u001b[0;36m<module>\u001b[0;34m()\u001b[0m\n",
      "\u001b[0;32mC:\\Users\\Mohannad\\Anaconda3\\lib\\site-packages\\somoclu\\train.py\u001b[0m in \u001b[0;36mtrain\u001b[0;34m(self, data, epochs, radius0, radiusN, radiuscooling, scale0, scaleN, scalecooling)\u001b[0m\n\u001b[1;32m    220\u001b[0m         \u001b[0mself\u001b[0m\u001b[1;33m.\u001b[0m\u001b[0mumatrix\u001b[0m\u001b[1;33m.\u001b[0m\u001b[0mshape\u001b[0m \u001b[1;33m=\u001b[0m \u001b[1;33m(\u001b[0m\u001b[0mself\u001b[0m\u001b[1;33m.\u001b[0m\u001b[0m_n_rows\u001b[0m \u001b[1;33m*\u001b[0m \u001b[0mself\u001b[0m\u001b[1;33m.\u001b[0m\u001b[0m_n_columns\u001b[0m\u001b[1;33m,\u001b[0m \u001b[1;33m)\u001b[0m\u001b[1;33m\u001b[0m\u001b[0m\n\u001b[1;32m    221\u001b[0m         \u001b[0mself\u001b[0m\u001b[1;33m.\u001b[0m\u001b[0mbmus\u001b[0m\u001b[1;33m.\u001b[0m\u001b[0mshape\u001b[0m \u001b[1;33m=\u001b[0m \u001b[1;33m(\u001b[0m\u001b[0mself\u001b[0m\u001b[1;33m.\u001b[0m\u001b[0mn_vectors\u001b[0m \u001b[1;33m*\u001b[0m \u001b[1;36m2\u001b[0m\u001b[1;33m,\u001b[0m \u001b[1;33m)\u001b[0m\u001b[1;33m\u001b[0m\u001b[0m\n\u001b[0;32m--> 222\u001b[0;31m         wrap_train(np.ravel(self._data), epochs, self._n_columns, self._n_rows,\n\u001b[0m\u001b[1;32m    223\u001b[0m                    \u001b[0mself\u001b[0m\u001b[1;33m.\u001b[0m\u001b[0mn_dim\u001b[0m\u001b[1;33m,\u001b[0m \u001b[0mself\u001b[0m\u001b[1;33m.\u001b[0m\u001b[0mn_vectors\u001b[0m\u001b[1;33m,\u001b[0m \u001b[0mradius0\u001b[0m\u001b[1;33m,\u001b[0m \u001b[0mradiusN\u001b[0m\u001b[1;33m,\u001b[0m\u001b[1;33m\u001b[0m\u001b[0m\n\u001b[1;32m    224\u001b[0m                    \u001b[0mradiuscooling\u001b[0m\u001b[1;33m,\u001b[0m \u001b[0mscale0\u001b[0m\u001b[1;33m,\u001b[0m \u001b[0mscaleN\u001b[0m\u001b[1;33m,\u001b[0m \u001b[0mscalecooling\u001b[0m\u001b[1;33m,\u001b[0m\u001b[1;33m\u001b[0m\u001b[0m\n",
      "\u001b[0;31mNameError\u001b[0m: name 'wrap_train' is not defined"
     ]
    }
   ],
   "source": [
    "c1 = np.asarray(rowValues).reshape(-1, 1)\n",
    "c2 = np.asarray(rowDates)\n",
    "c3 = []\n",
    "colors = [\"white\"]\n",
    "colors.extend([\"green\"])\n",
    "colors.extend([\"blue\"])\n",
    "colors.extend([\"black\"])\n",
    "\n",
    "n_rows = len(c1)\n",
    "n_columns = 1\n",
    "\n",
    "som = somoclu.Somoclu(2,2,)\n",
    "%time som.train(c1)\n",
    "#som.cluster(c1)\n",
    "\n",
    "list1 = []\n",
    "list2 = []\n",
    "list3 = []\n",
    "list4 = []\n",
    "list5 = []\n",
    "list6 = []\n",
    "list7 = []\n",
    "list8 = []\n",
    "list9 = []\n",
    "ousreißer = []\n",
    "\n",
    "for i in range(len(c1)):\n",
    "    print(str(som.bmus[0]))\n",
    "    if((\"[0 0]\") in (str(som.bmus[i]))):\n",
    "        list1.append((som.bmus[i]))\n",
    "    \n",
    "    if((\"[1 0]\") in (str(som.bmus[i]))):\n",
    "        list2.append((som.bmus[i]))\n",
    "\n",
    "    if((\"[2 0]\") in (str(som.bmus[i]))):\n",
    "        list3.append((som.bmus[i]))\n",
    "\n",
    "    if((\"[0 1]\") in (str(som.bmus[i]))):\n",
    "        list4.append((som.bmus[i]))\n",
    "\n",
    "    if((\"[1 1]\") in (str(som.bmus[i]))):\n",
    "        list5.append((som.bmus[i]))\n",
    "\n",
    "    if((\"[2 1]\") in (str(som.bmus[i]))):\n",
    "        list6.append((som.bmus[i]))\n",
    "\n",
    "    if((\"[0 2]\") in (str(som.bmus[i]))):\n",
    "        list7.append((som.bmus[i]))\n",
    "\n",
    "    if((\"[1 2]\") in (str(som.bmus[i]))):\n",
    "        list8.append((som.bmus[i]))\n",
    "\n",
    "    if((\"[2 2]\") in (str(som.bmus[i]))):\n",
    "        list9.append((som.bmus[i]))\n",
    "\n",
    "print(len(list1)/len(c1))\n",
    "print(len(list2)/len(c1))\n",
    "print(len(list3)/len(c1))\n",
    "print(len(list4)/len(c1))\n",
    "print(len(list5)/len(c1))\n",
    "print(len(list6)/len(c1))\n",
    "print(len(list7)/len(c1))\n",
    "print(len(list8)/len(c1))\n",
    "print(len(list9)/len(c1))\n",
    "\n",
    "print(len(list1)/len(c1)+len(list2)/len(c1)+len(list4)/len(c1)+len(list5)/len(c1))\n",
    "\n",
    "for i in range(len(c1)):\n",
    "    if (c1[i]>200):\n",
    "        ousreißer.append(c2[i])\n",
    "\n",
    "        '''for i in out:\n",
    "    for j in ousreißer:\n",
    "        if(i==j):\n",
    "            print(\"true\")\n",
    "'''\n",
    "\n",
    "print(type(som.umatrix))\n",
    "\n",
    "A = np.squeeze(np.asarray(som.umatrix))\n",
    "\n",
    "print(som.umatrix.reshape(1,-1))\n",
    "colours = []\n",
    "\n",
    "counter = 0\n",
    "for i in som.umatrix.reshape(1,-1):\n",
    "    counter = counter +1\n",
    "    colours.append(str(counter))\n",
    "\n",
    "print(A.reshape(1,-1))\n",
    "fig, (ax1) = plt.subplots(1, figsize=(14,6))\n",
    "ax1.scatter(list(Xoriginal['dates']), list(Xoriginal['values']), c = colours)\n",
    "ax1.set_xlabel(\"$x_1$\")\n",
    "ax1.set_ylabel(\"$x_2$\")\n",
    "ax1.set_title(\"$self-organizing maps Origin$\")\n",
    "plt.show()\n"
   ]
  },
  {
   "cell_type": "code",
   "execution_count": null,
   "metadata": {
    "collapsed": false
   },
   "outputs": [],
   "source": [
    "som.view_component_planes()"
   ]
  },
  {
   "cell_type": "code",
   "execution_count": null,
   "metadata": {
    "collapsed": true
   },
   "outputs": [],
   "source": []
  },
  {
   "cell_type": "code",
   "execution_count": null,
   "metadata": {
    "collapsed": true
   },
   "outputs": [],
   "source": []
  },
  {
   "cell_type": "code",
   "execution_count": null,
   "metadata": {
    "collapsed": true
   },
   "outputs": [],
   "source": []
  }
 ],
 "metadata": {
  "anaconda-cloud": {},
  "kernelspec": {
   "display_name": "Python [conda root]",
   "language": "python",
   "name": "conda-root-py"
  },
  "language_info": {
   "codemirror_mode": {
    "name": "ipython",
    "version": 3
   },
   "file_extension": ".py",
   "mimetype": "text/x-python",
   "name": "python",
   "nbconvert_exporter": "python",
   "pygments_lexer": "ipython3",
   "version": "3.5.2"
  }
 },
 "nbformat": 4,
 "nbformat_minor": 1
}
